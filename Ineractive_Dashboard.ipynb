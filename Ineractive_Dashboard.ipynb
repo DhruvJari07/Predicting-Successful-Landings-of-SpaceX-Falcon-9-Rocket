{
    "cells": [
        {
            "cell_type": "code",
            "execution_count": 1,
            "metadata": {},
            "outputs": [
                {
                    "name": "stdout",
                    "output_type": "stream",
                    "text": [
                        "Requirement already satisfied: pandas in /opt/conda/envs/Python-3.9/lib/python3.9/site-packages (1.3.4)\n",
                        "Requirement already satisfied: dash in /opt/conda/envs/Python-3.9/lib/python3.9/site-packages (2.2.0)\n",
                        "Requirement already satisfied: python-dateutil>=2.7.3 in /opt/conda/envs/Python-3.9/lib/python3.9/site-packages (from pandas) (2.8.2)\n",
                        "Requirement already satisfied: pytz>=2017.3 in /opt/conda/envs/Python-3.9/lib/python3.9/site-packages (from pandas) (2021.3)\n",
                        "Requirement already satisfied: numpy>=1.17.3 in /opt/conda/envs/Python-3.9/lib/python3.9/site-packages (from pandas) (1.20.3)\n",
                        "Requirement already satisfied: dash-html-components==2.0.0 in /opt/conda/envs/Python-3.9/lib/python3.9/site-packages (from dash) (2.0.0)\n",
                        "Requirement already satisfied: plotly>=5.0.0 in /opt/conda/envs/Python-3.9/lib/python3.9/site-packages (from dash) (5.1.0)\n",
                        "Requirement already satisfied: Flask>=1.0.4 in /opt/conda/envs/Python-3.9/lib/python3.9/site-packages (from dash) (2.0.3)\n",
                        "Requirement already satisfied: dash-core-components==2.0.0 in /opt/conda/envs/Python-3.9/lib/python3.9/site-packages (from dash) (2.0.0)\n",
                        "Requirement already satisfied: flask-compress in /opt/conda/envs/Python-3.9/lib/python3.9/site-packages (from dash) (1.11)\n",
                        "Requirement already satisfied: dash-table==5.0.0 in /opt/conda/envs/Python-3.9/lib/python3.9/site-packages (from dash) (5.0.0)\n",
                        "Requirement already satisfied: click>=7.1.2 in /opt/conda/envs/Python-3.9/lib/python3.9/site-packages (from Flask>=1.0.4->dash) (8.0.3)\n",
                        "Requirement already satisfied: Jinja2>=3.0 in /opt/conda/envs/Python-3.9/lib/python3.9/site-packages (from Flask>=1.0.4->dash) (3.0.2)\n",
                        "Requirement already satisfied: itsdangerous>=2.0 in /opt/conda/envs/Python-3.9/lib/python3.9/site-packages (from Flask>=1.0.4->dash) (2.1.0)\n",
                        "Requirement already satisfied: Werkzeug>=2.0 in /opt/conda/envs/Python-3.9/lib/python3.9/site-packages (from Flask>=1.0.4->dash) (2.0.2)\n",
                        "Requirement already satisfied: MarkupSafe>=2.0 in /opt/conda/envs/Python-3.9/lib/python3.9/site-packages (from Jinja2>=3.0->Flask>=1.0.4->dash) (2.0.1)\n",
                        "Requirement already satisfied: six in /opt/conda/envs/Python-3.9/lib/python3.9/site-packages (from plotly>=5.0.0->dash) (1.15.0)\n",
                        "Requirement already satisfied: tenacity>=6.2.0 in /opt/conda/envs/Python-3.9/lib/python3.9/site-packages (from plotly>=5.0.0->dash) (8.0.1)\n",
                        "Requirement already satisfied: brotli in /opt/conda/envs/Python-3.9/lib/python3.9/site-packages (from flask-compress->dash) (1.0.9)\n",
                        "Requirement already satisfied: jupyter-dash in /opt/conda/envs/Python-3.9/lib/python3.9/site-packages (0.4.1)\n",
                        "Requirement already satisfied: retrying in /opt/conda/envs/Python-3.9/lib/python3.9/site-packages (from jupyter-dash) (1.3.3)\n",
                        "Requirement already satisfied: dash in /opt/conda/envs/Python-3.9/lib/python3.9/site-packages (from jupyter-dash) (2.2.0)\n",
                        "Requirement already satisfied: ipykernel in /opt/conda/envs/Python-3.9/lib/python3.9/site-packages (from jupyter-dash) (6.4.1)\n",
                        "Requirement already satisfied: flask in /opt/conda/envs/Python-3.9/lib/python3.9/site-packages (from jupyter-dash) (2.0.3)\n",
                        "Requirement already satisfied: ansi2html in /opt/conda/envs/Python-3.9/lib/python3.9/site-packages (from jupyter-dash) (1.7.0)\n",
                        "Requirement already satisfied: requests in /opt/conda/envs/Python-3.9/lib/python3.9/site-packages (from jupyter-dash) (2.26.0)\n",
                        "Requirement already satisfied: ipython in /opt/conda/envs/Python-3.9/lib/python3.9/site-packages (from jupyter-dash) (7.29.0)\n",
                        "Requirement already satisfied: dash-table==5.0.0 in /opt/conda/envs/Python-3.9/lib/python3.9/site-packages (from dash->jupyter-dash) (5.0.0)\n",
                        "Requirement already satisfied: plotly>=5.0.0 in /opt/conda/envs/Python-3.9/lib/python3.9/site-packages (from dash->jupyter-dash) (5.1.0)\n",
                        "Requirement already satisfied: dash-html-components==2.0.0 in /opt/conda/envs/Python-3.9/lib/python3.9/site-packages (from dash->jupyter-dash) (2.0.0)\n",
                        "Requirement already satisfied: flask-compress in /opt/conda/envs/Python-3.9/lib/python3.9/site-packages (from dash->jupyter-dash) (1.11)\n",
                        "Requirement already satisfied: dash-core-components==2.0.0 in /opt/conda/envs/Python-3.9/lib/python3.9/site-packages (from dash->jupyter-dash) (2.0.0)\n",
                        "Requirement already satisfied: Werkzeug>=2.0 in /opt/conda/envs/Python-3.9/lib/python3.9/site-packages (from flask->jupyter-dash) (2.0.2)\n",
                        "Requirement already satisfied: itsdangerous>=2.0 in /opt/conda/envs/Python-3.9/lib/python3.9/site-packages (from flask->jupyter-dash) (2.1.0)\n",
                        "Requirement already satisfied: click>=7.1.2 in /opt/conda/envs/Python-3.9/lib/python3.9/site-packages (from flask->jupyter-dash) (8.0.3)\n",
                        "Requirement already satisfied: Jinja2>=3.0 in /opt/conda/envs/Python-3.9/lib/python3.9/site-packages (from flask->jupyter-dash) (3.0.2)\n",
                        "Requirement already satisfied: MarkupSafe>=2.0 in /opt/conda/envs/Python-3.9/lib/python3.9/site-packages (from Jinja2>=3.0->flask->jupyter-dash) (2.0.1)\n",
                        "Requirement already satisfied: tenacity>=6.2.0 in /opt/conda/envs/Python-3.9/lib/python3.9/site-packages (from plotly>=5.0.0->dash->jupyter-dash) (8.0.1)\n",
                        "Requirement already satisfied: six in /opt/conda/envs/Python-3.9/lib/python3.9/site-packages (from plotly>=5.0.0->dash->jupyter-dash) (1.15.0)\n",
                        "Requirement already satisfied: brotli in /opt/conda/envs/Python-3.9/lib/python3.9/site-packages (from flask-compress->dash->jupyter-dash) (1.0.9)\n",
                        "Requirement already satisfied: debugpy<2.0,>=1.0.0 in /opt/conda/envs/Python-3.9/lib/python3.9/site-packages (from ipykernel->jupyter-dash) (1.5.1)\n",
                        "Requirement already satisfied: traitlets<6.0,>=4.1.0 in /opt/conda/envs/Python-3.9/lib/python3.9/site-packages (from ipykernel->jupyter-dash) (5.1.1)\n",
                        "Requirement already satisfied: jupyter-client<8.0 in /opt/conda/envs/Python-3.9/lib/python3.9/site-packages (from ipykernel->jupyter-dash) (7.0.6)\n",
                        "Requirement already satisfied: tornado<7.0,>=4.2 in /opt/conda/envs/Python-3.9/lib/python3.9/site-packages (from ipykernel->jupyter-dash) (6.1)\n",
                        "Requirement already satisfied: matplotlib-inline<0.2.0,>=0.1.0 in /opt/conda/envs/Python-3.9/lib/python3.9/site-packages (from ipykernel->jupyter-dash) (0.1.2)\n",
                        "Requirement already satisfied: ipython-genutils in /opt/conda/envs/Python-3.9/lib/python3.9/site-packages (from ipykernel->jupyter-dash) (0.2.0)\n",
                        "Requirement already satisfied: jedi>=0.16 in /opt/conda/envs/Python-3.9/lib/python3.9/site-packages (from ipython->jupyter-dash) (0.18.0)\n",
                        "Requirement already satisfied: backcall in /opt/conda/envs/Python-3.9/lib/python3.9/site-packages (from ipython->jupyter-dash) (0.2.0)\n",
                        "Requirement already satisfied: pexpect>4.3 in /opt/conda/envs/Python-3.9/lib/python3.9/site-packages (from ipython->jupyter-dash) (4.8.0)\n",
                        "Requirement already satisfied: pickleshare in /opt/conda/envs/Python-3.9/lib/python3.9/site-packages (from ipython->jupyter-dash) (0.7.5)\n",
                        "Requirement already satisfied: prompt-toolkit!=3.0.0,!=3.0.1,<3.1.0,>=2.0.0 in /opt/conda/envs/Python-3.9/lib/python3.9/site-packages (from ipython->jupyter-dash) (3.0.20)\n",
                        "Requirement already satisfied: pygments in /opt/conda/envs/Python-3.9/lib/python3.9/site-packages (from ipython->jupyter-dash) (2.10.0)\n",
                        "Requirement already satisfied: setuptools>=18.5 in /opt/conda/envs/Python-3.9/lib/python3.9/site-packages (from ipython->jupyter-dash) (58.0.4)\n",
                        "Requirement already satisfied: decorator in /opt/conda/envs/Python-3.9/lib/python3.9/site-packages (from ipython->jupyter-dash) (5.1.0)\n",
                        "Requirement already satisfied: parso<0.9.0,>=0.8.0 in /opt/conda/envs/Python-3.9/lib/python3.9/site-packages (from jedi>=0.16->ipython->jupyter-dash) (0.8.3)\n",
                        "Requirement already satisfied: pyzmq>=13 in /opt/conda/envs/Python-3.9/lib/python3.9/site-packages (from jupyter-client<8.0->ipykernel->jupyter-dash) (22.3.0)\n",
                        "Requirement already satisfied: python-dateutil>=2.1 in /opt/conda/envs/Python-3.9/lib/python3.9/site-packages (from jupyter-client<8.0->ipykernel->jupyter-dash) (2.8.2)\n",
                        "Requirement already satisfied: nest-asyncio>=1.5 in /opt/conda/envs/Python-3.9/lib/python3.9/site-packages (from jupyter-client<8.0->ipykernel->jupyter-dash) (1.5.1)\n",
                        "Requirement already satisfied: jupyter-core>=4.6.0 in /opt/conda/envs/Python-3.9/lib/python3.9/site-packages (from jupyter-client<8.0->ipykernel->jupyter-dash) (4.9.1)\n",
                        "Requirement already satisfied: entrypoints in /opt/conda/envs/Python-3.9/lib/python3.9/site-packages (from jupyter-client<8.0->ipykernel->jupyter-dash) (0.3)\n",
                        "Requirement already satisfied: ptyprocess>=0.5 in /opt/conda/envs/Python-3.9/lib/python3.9/site-packages (from pexpect>4.3->ipython->jupyter-dash) (0.7.0)\r\n",
                        "Requirement already satisfied: wcwidth in /opt/conda/envs/Python-3.9/lib/python3.9/site-packages (from prompt-toolkit!=3.0.0,!=3.0.1,<3.1.0,>=2.0.0->ipython->jupyter-dash) (0.2.5)\r\n",
                        "Requirement already satisfied: idna<4,>=2.5 in /opt/conda/envs/Python-3.9/lib/python3.9/site-packages (from requests->jupyter-dash) (3.3)\r\n",
                        "Requirement already satisfied: certifi>=2017.4.17 in /opt/conda/envs/Python-3.9/lib/python3.9/site-packages (from requests->jupyter-dash) (2021.10.8)\r\n",
                        "Requirement already satisfied: urllib3<1.27,>=1.21.1 in /opt/conda/envs/Python-3.9/lib/python3.9/site-packages (from requests->jupyter-dash) (1.26.7)\r\n",
                        "Requirement already satisfied: charset-normalizer~=2.0.0 in /opt/conda/envs/Python-3.9/lib/python3.9/site-packages (from requests->jupyter-dash) (2.0.4)\r\n"
                    ]
                }
            ],
            "source": [
                "# Enviroment setting up\n",
                "!pip install pandas dash\n",
                "!pip install jupyter-dash"
            ]
        },
        {
            "cell_type": "code",
            "execution_count": 2,
            "metadata": {},
            "outputs": [
                {
                    "name": "stdout",
                    "output_type": "stream",
                    "text": [
                        "--2022-03-06 21:11:24--  https://cf-courses-data.s3.us.cloud-object-storage.appdomain.cloud/IBM-DS0321EN-SkillsNetwork/datasets/spacex_launch_dash.csv\n",
                        "Resolving cf-courses-data.s3.us.cloud-object-storage.appdomain.cloud (cf-courses-data.s3.us.cloud-object-storage.appdomain.cloud)... 198.23.119.245\n",
                        "Connecting to cf-courses-data.s3.us.cloud-object-storage.appdomain.cloud (cf-courses-data.s3.us.cloud-object-storage.appdomain.cloud)|198.23.119.245|:443... connected.\n",
                        "HTTP request sent, awaiting response... 200 OK\n",
                        "Length: 3033 (3.0K) [text/csv]\n",
                        "Saving to: ‘spacex_launch_dash.csv.1’\n",
                        "\n",
                        "spacex_launch_dash. 100%[===================>]   2.96K  --.-KB/s    in 0s      \n",
                        "\n",
                        "2022-03-06 21:11:24 (71.7 MB/s) - ‘spacex_launch_dash.csv.1’ saved [3033/3033]\n",
                        "\n"
                    ]
                }
            ],
            "source": [
                "# Data load\n",
                "!wget \"https://cf-courses-data.s3.us.cloud-object-storage.appdomain.cloud/IBM-DS0321EN-SkillsNetwork/datasets/spacex_launch_dash.csv\""
            ]
        },
        {
            "cell_type": "code",
            "execution_count": 3,
            "metadata": {},
            "outputs": [
                {
                    "name": "stdout",
                    "output_type": "stream",
                    "text": [
                        "--2022-03-06 21:11:25--  https://cf-courses-data.s3.us.cloud-object-storage.appdomain.cloud/IBM-DS0321EN-SkillsNetwork/labs/module_3/spacex_dash_app.py\n",
                        "Resolving cf-courses-data.s3.us.cloud-object-storage.appdomain.cloud (cf-courses-data.s3.us.cloud-object-storage.appdomain.cloud)... 198.23.119.245\n",
                        "Connecting to cf-courses-data.s3.us.cloud-object-storage.appdomain.cloud (cf-courses-data.s3.us.cloud-object-storage.appdomain.cloud)|198.23.119.245|:443... connected.\n",
                        "HTTP request sent, awaiting response... 200 OK\n",
                        "Length: 2110 (2.1K) [text/x-python]\n",
                        "Saving to: ‘spacex_dash_app.py.1’\n",
                        "\n",
                        "spacex_dash_app.py. 100%[===================>]   2.06K  --.-KB/s    in 0s      \n",
                        "\n",
                        "2022-03-06 21:11:25 (54.0 MB/s) - ‘spacex_dash_app.py.1’ saved [2110/2110]\n",
                        "\n"
                    ]
                }
            ],
            "source": [
                "!wget \"https://cf-courses-data.s3.us.cloud-object-storage.appdomain.cloud/IBM-DS0321EN-SkillsNetwork/labs/module_3/spacex_dash_app.py\""
            ]
        },
        {
            "cell_type": "code",
            "execution_count": null,
            "metadata": {},
            "outputs": [],
            "source": []
        },
        {
            "cell_type": "code",
            "execution_count": 4,
            "metadata": {},
            "outputs": [
                {
                    "name": "stdout",
                    "output_type": "stream",
                    "text": [
                        "Dash is running on http://127.0.0.1:8050/\n",
                        "\n",
                        " * Serving Flask app '__main__' (lazy loading)\n",
                        " * Environment: production\n",
                        "\u001b[31m   WARNING: This is a development server. Do not use it in a production deployment.\u001b[0m\n",
                        "\u001b[2m   Use a production WSGI server instead.\u001b[0m\n",
                        " * Debug mode: on\n"
                    ]
                },
                {
                    "name": "stderr",
                    "output_type": "stream",
                    "text": [
                        "Traceback (most recent call last):\n",
                        "  File \"/opt/conda/envs/Python-3.9/lib/python3.9/site-packages/ipykernel/__main__.py\", line 3, in <module>\n",
                        "    app.launch_new_instance()\n",
                        "  File \"/opt/conda/envs/Python-3.9/lib/python3.9/site-packages/traitlets/config/application.py\", line 845, in launch_instance\n",
                        "    app.initialize(argv)\n",
                        "  File \"/opt/conda/envs/Python-3.9/lib/python3.9/site-packages/traitlets/config/application.py\", line 88, in inner\n",
                        "    return method(app, *args, **kwargs)\n",
                        "  File \"/opt/conda/envs/Python-3.9/lib/python3.9/site-packages/ipykernel/kernelapp.py\", line 632, in initialize\n",
                        "    self.init_sockets()\n",
                        "  File \"/opt/conda/envs/Python-3.9/lib/python3.9/site-packages/ipykernel/kernelapp.py\", line 282, in init_sockets\n",
                        "    self.shell_port = self._bind_socket(self.shell_socket, self.shell_port)\n",
                        "  File \"/opt/conda/envs/Python-3.9/lib/python3.9/site-packages/ipykernel/kernelapp.py\", line 229, in _bind_socket\n",
                        "    return self._try_bind_socket(s, port)\n",
                        "  File \"/opt/conda/envs/Python-3.9/lib/python3.9/site-packages/ipykernel/kernelapp.py\", line 205, in _try_bind_socket\n",
                        "    s.bind(\"tcp://%s:%i\" % (self.ip, port))\n",
                        "  File \"/opt/conda/envs/Python-3.9/lib/python3.9/site-packages/zmq/sugar/socket.py\", line 214, in bind\n",
                        "    super().bind(addr)\n",
                        "  File \"zmq/backend/cython/socket.pyx\", line 540, in zmq.backend.cython.socket.Socket.bind\n",
                        "  File \"zmq/backend/cython/checkrc.pxd\", line 28, in zmq.backend.cython.checkrc._check_rc\n",
                        "zmq.error.ZMQError: Address already in use\n"
                    ]
                },
                {
                    "ename": "SystemExit",
                    "evalue": "1",
                    "output_type": "error",
                    "traceback": [
                        "An exception has occurred, use %tb to see the full traceback.\n",
                        "\u001b[0;31mSystemExit\u001b[0m\u001b[0;31m:\u001b[0m 1\n"
                    ]
                },
                {
                    "name": "stderr",
                    "output_type": "stream",
                    "text": [
                        "/opt/conda/envs/Python-3.9/lib/python3.9/site-packages/IPython/core/interactiveshell.py:3452: UserWarning: To exit: use 'exit', 'quit', or Ctrl-D.\n",
                        "  warn(\"To exit: use 'exit', 'quit', or Ctrl-D.\", stacklevel=1)\n"
                    ]
                }
            ],
            "source": [
                "# Importing required libraries\n",
                "from jupyter_dash import JupyterDash\n",
                "import pandas as pd\n",
                "import dash\n",
                "from dash import dcc\n",
                "from dash import html\n",
                "from dash.dependencies import Input, Output, State\n",
                "import plotly.graph_objects as go\n",
                "import plotly.express as px\n",
                "from dash import no_update\n",
                "\n",
                "# Reading the airline data into pandas dataframe\n",
                "spacex_df = pd.read_csv(\"spacex_launch_dash.csv\")\n",
                "max_payload = spacex_df['Payload Mass (kg)'].max()\n",
                "min_payload = spacex_df['Payload Mass (kg)'].min()\n",
                "\n",
                "# Creating a dash application\n",
                "app = dash.Dash(__name__)\n",
                "\n",
                "# Creating an app layout\n",
                "app.layout = html.Div(children=[html.H1('SpaceX Launch Records Dashboard',\n",
                "                                        style={'textAlign': 'center', 'color': '#503D36',\n",
                "                                               'font-size': 40}),\n",
                "                                # STEP 1: Adding a dropdown list to enable Launch Site selection\n",
                "                                # The default select value is for ALL sites\n",
                "                                dcc.Dropdown(id='site-dropdown',\n",
                "                                             options=[\n",
                "                                                {'label': 'All Sites', 'value': 'ALL'},\n",
                "                                                {'label': 'CCAFS LC-40', 'value': 'CCAFS LC-40'},\n",
                "                                                {'label': 'CCAFS SLC-40', 'value': 'CCAFS SLC-40'},\n",
                "                                                {'label': 'KSC LC-39A', 'value':'KSC LC-39A'},\n",
                "                                                {'label': 'VAFB SLC-4E', 'value':'VAFB SLC-4E'}\n",
                "                                             ],\n",
                "                                             # Default dropdown value\n",
                "                                             value='ALL',\n",
                "                                             placeholder=\"Select a launch site\",\n",
                "                                             searchable=True),\n",
                "                                html.Br(),\n",
                "\n",
                "                                # STEP 2: Adding a pie chart to show the total successful launches count for all sites\n",
                "                                # If a specific launch site was selected, show the Success vs. Failed counts for the site\n",
                "                                html.Div(dcc.Graph(id='success-pie-chart')),\n",
                "                                html.Br(),\n",
                "\n",
                "                                html.P(\"Payload range (Kg):\"),\n",
                "                                # STEP 3: Adding a slider to select payload range\n",
                "                                dcc.RangeSlider(id='payload-slider',\n",
                "                                                min=0, max=10000, step=1000,\n",
                "                                                marks={0: '0',\n",
                "                                                       2500: '2500',\n",
                "                                                       5000: '5000',\n",
                "                                                       7500: '7500'},\n",
                "                                                value=[min_payload, max_payload]),\n",
                "\n",
                "                                # STEP 4: Adding a scatter chart to show the correlation between payload and launch success\n",
                "                                html.Div(dcc.Graph(id='success-payload-scatter-chart')),\n",
                "                                ])\n",
                "\n",
                "# STEP 5:\n",
                "# Adding a callback function for `site-dropdown` as input, `success-pie-chart` as output\n",
                "@app.callback(Output(component_id='success-pie-chart', component_property='figure'),\n",
                "              Input(component_id='site-dropdown', component_property='value'))\n",
                "\n",
                "def render_pie_chart(entered_site):\n",
                "  # Filtered dataframe for else condition\n",
                "    filtered_df = spacex_df[spacex_df['Launch Site']==str(entered_site)]\n",
                "    if entered_site == 'ALL':\n",
                "        fig = px.pie(spacex_df, values='class', \n",
                "        names='Launch Site', \n",
                "        title='Launch in all sites')\n",
                "        return fig\n",
                "    else:\n",
                "        fig = px.pie(filtered_df, names='class', title=f'Launch in {entered_site}')\n",
                "        return fig\n",
                "\n",
                "# STEP 6:\n",
                "# Adding a callback function for `site-dropdown` and `payload-slider` as inputs, `success-payload-scatter-chart` as output\n",
                "@app.callback(Output(component_id='success-payload-scatter-chart', component_property='figure'),\n",
                "              [Input(component_id='site-dropdown', component_property='value'), \n",
                "               Input(component_id='payload-slider', component_property='value')])\n",
                "\n",
                "def render_scatter_plot(entered_site, slider_payload):\n",
                "    filtered_df = spacex_df[(spacex_df['Payload Mass (kg)'] >= slider_payload[0]) & (spacex_df['Payload Mass (kg)'] <= slider_payload[1])]\n",
                "    if entered_site == 'ALL':\n",
                "      fig = px.scatter(filtered_df, x='Payload Mass (kg)', y='class', color='Booster Version Category', title='All site payload and outcome')\n",
                "      return fig\n",
                "    else:\n",
                "      filtered_df = filtered_df[filtered_df['Launch Site']==entered_site]\n",
                "      fig = px.scatter(filtered_df, x='Payload Mass (kg)', y = 'class', color='Booster Version Category', title=f'Site {entered_site} Payload and outcome')\n",
                "      return fig\n",
                "\n",
                "# Run the app\n",
                "app.run_server(debug=True)\n"
            ]
        },
        {
            "cell_type": "code",
            "execution_count": 5,
            "metadata": {},
            "outputs": [],
            "source": []
        },
        {
            "cell_type": "code",
            "execution_count": null,
            "metadata": {},
            "outputs": [],
            "source": []
        }
    ],
    "metadata": {
        "kernelspec": {
            "display_name": "Python 3.9",
            "language": "python",
            "name": "python3"
        },
        "language_info": {
            "codemirror_mode": {
                "name": "ipython",
                "version": 3
            },
            "file_extension": ".py",
            "mimetype": "text/x-python",
            "name": "python",
            "nbconvert_exporter": "python",
            "pygments_lexer": "ipython3",
            "version": "3.9.7"
        }
    },
    "nbformat": 4,
    "nbformat_minor": 1
}
